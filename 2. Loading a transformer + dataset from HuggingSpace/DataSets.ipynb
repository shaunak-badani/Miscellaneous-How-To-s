{
  "cells": [
    {
      "cell_type": "code",
      "source": [
        "from datasets import load_dataset, list_datasets"
      ],
      "outputs": [],
      "execution_count": 2,
      "metadata": {
        "gather": {
          "logged": 1724424341156
        }
      }
    },
    {
      "cell_type": "code",
      "source": [
        "available = list_datasets()"
      ],
      "outputs": [],
      "execution_count": null,
      "metadata": {
        "jupyter": {
          "source_hidden": false,
          "outputs_hidden": false
        },
        "nteract": {
          "transient": {
            "deleting": false
          }
        }
      }
    },
    {
      "cell_type": "code",
      "source": [
        "print(f\" Number of available datasets: {len(available)}\")\n"
      ],
      "outputs": [
        {
          "output_type": "stream",
          "name": "stdout",
          "text": " Number of available datasets: 199322\n"
        }
      ],
      "execution_count": 8,
      "metadata": {
        "jupyter": {
          "source_hidden": false,
          "outputs_hidden": false
        },
        "nteract": {
          "transient": {
            "deleting": false
          }
        },
        "gather": {
          "logged": 1724424486135
        }
      }
    },
    {
      "cell_type": "code",
      "source": [
        "print([i for i in available if \"movie_rationales\" in i])\n",
        "# movie_rationales has been renamed to \"eraser-benchmark/movie_rationales\""
      ],
      "outputs": [
        {
          "output_type": "stream",
          "name": "stdout",
          "text": "['eraser-benchmark/movie_rationales']\n"
        }
      ],
      "execution_count": 15,
      "metadata": {
        "jupyter": {
          "source_hidden": false,
          "outputs_hidden": false
        },
        "nteract": {
          "transient": {
            "deleting": false
          }
        },
        "gather": {
          "logged": 1724424745777
        }
      }
    },
    {
      "cell_type": "code",
      "source": [
        "def find_key_like(key):\n",
        "    for i in available:\n",
        "        if key in i:\n",
        "            return i\n",
        "    return None"
      ],
      "outputs": [],
      "execution_count": 16,
      "metadata": {
        "jupyter": {
          "source_hidden": false,
          "outputs_hidden": false
        },
        "nteract": {
          "transient": {
            "deleting": false
          }
        },
        "gather": {
          "logged": 1724424784977
        }
      }
    },
    {
      "cell_type": "code",
      "source": [
        "find_key_like(\"ade_corpus_v2\")"
      ],
      "outputs": [
        {
          "output_type": "execute_result",
          "execution_count": 20,
          "data": {
            "text/plain": "'ade-benchmark-corpus/ade_corpus_v2'"
          },
          "metadata": {}
        }
      ],
      "execution_count": 20,
      "metadata": {
        "jupyter": {
          "source_hidden": false,
          "outputs_hidden": false
        },
        "nteract": {
          "transient": {
            "deleting": false
          }
        },
        "gather": {
          "logged": 1724424813581
        }
      }
    },
    {
      "cell_type": "code",
      "source": [
        "find_key_like(\"amazon_polarity\")"
      ],
      "outputs": [
        {
          "output_type": "execute_result",
          "execution_count": 21,
          "data": {
            "text/plain": "'fancyzhx/amazon_polarity'"
          },
          "metadata": {}
        }
      ],
      "execution_count": 21,
      "metadata": {
        "jupyter": {
          "source_hidden": false,
          "outputs_hidden": false
        },
        "nteract": {
          "transient": {
            "deleting": false
          }
        },
        "gather": {
          "logged": 1724424832452
        }
      }
    },
    {
      "cell_type": "code",
      "source": [
        "movie_rationales = load_dataset(\"eraser-benchmark/movie_rationales\")"
      ],
      "outputs": [
        {
          "output_type": "stream",
          "name": "stderr",
          "text": "/anaconda/envs/azureml_py38/lib/python3.9/site-packages/datasets/load.py:1486: FutureWarning: The repository for eraser-benchmark/movie_rationales contains custom code which must be executed to correctly load the dataset. You can inspect the repository content at https://hf.co/datasets/eraser-benchmark/movie_rationales\nYou can avoid this message in future by passing the argument `trust_remote_code=True`.\nPassing `trust_remote_code=True` will be mandatory to load this dataset from the next major release of `datasets`.\n  warnings.warn(\n"
        },
        {
          "output_type": "display_data",
          "data": {
            "text/plain": "Downloading builder script:   0%|          | 0.00/4.42k [00:00<?, ?B/s]",
            "application/vnd.jupyter.widget-view+json": {
              "version_major": 2,
              "version_minor": 0,
              "model_id": "457e338ab8da458baf3be25bdc272613"
            }
          },
          "metadata": {}
        },
        {
          "output_type": "display_data",
          "data": {
            "text/plain": "Downloading readme:   0%|          | 0.00/6.65k [00:00<?, ?B/s]",
            "application/vnd.jupyter.widget-view+json": {
              "version_major": 2,
              "version_minor": 0,
              "model_id": "7466f6153f214a37acaead870ce9bdc4"
            }
          },
          "metadata": {}
        },
        {
          "output_type": "display_data",
          "data": {
            "text/plain": "Generating train split:   0%|          | 0/1600 [00:00<?, ? examples/s]",
            "application/vnd.jupyter.widget-view+json": {
              "version_major": 2,
              "version_minor": 0,
              "model_id": "a8f5ad9bd1cb4540891d6347d1e73d2b"
            }
          },
          "metadata": {}
        },
        {
          "output_type": "display_data",
          "data": {
            "text/plain": "Generating validation split:   0%|          | 0/200 [00:00<?, ? examples/s]",
            "application/vnd.jupyter.widget-view+json": {
              "version_major": 2,
              "version_minor": 0,
              "model_id": "d690a26789044cbf96f49c997cb08e45"
            }
          },
          "metadata": {}
        },
        {
          "output_type": "display_data",
          "data": {
            "text/plain": "Generating test split:   0%|          | 0/199 [00:00<?, ? examples/s]",
            "application/vnd.jupyter.widget-view+json": {
              "version_major": 2,
              "version_minor": 0,
              "model_id": "c7bf1b0b9a0046c693ce86c0ebfb1064"
            }
          },
          "metadata": {}
        }
      ],
      "execution_count": 23,
      "metadata": {
        "jupyter": {
          "source_hidden": false,
          "outputs_hidden": false
        },
        "nteract": {
          "transient": {
            "deleting": false
          }
        },
        "gather": {
          "logged": 1724424928399
        }
      }
    },
    {
      "cell_type": "code",
      "source": [
        "movie_rationales"
      ],
      "outputs": [
        {
          "output_type": "execute_result",
          "execution_count": 24,
          "data": {
            "text/plain": "DatasetDict({\n    train: Dataset({\n        features: ['review', 'label', 'evidences'],\n        num_rows: 1600\n    })\n    validation: Dataset({\n        features: ['review', 'label', 'evidences'],\n        num_rows: 200\n    })\n    test: Dataset({\n        features: ['review', 'label', 'evidences'],\n        num_rows: 199\n    })\n})"
          },
          "metadata": {}
        }
      ],
      "execution_count": 24,
      "metadata": {
        "jupyter": {
          "source_hidden": false,
          "outputs_hidden": false
        },
        "nteract": {
          "transient": {
            "deleting": false
          }
        },
        "gather": {
          "logged": 1724424934216
        }
      }
    },
    {
      "cell_type": "code",
      "source": [
        "train = movie_rationales[\"train\"]\n",
        "df = train.to_pandas()"
      ],
      "outputs": [],
      "execution_count": 25,
      "metadata": {
        "jupyter": {
          "source_hidden": false,
          "outputs_hidden": false
        },
        "nteract": {
          "transient": {
            "deleting": false
          }
        },
        "gather": {
          "logged": 1724425038165
        }
      }
    },
    {
      "cell_type": "code",
      "source": [
        "df.describe()"
      ],
      "outputs": [
        {
          "output_type": "execute_result",
          "execution_count": 29,
          "data": {
            "text/plain": "             label\ncount  1600.000000\nmean      0.500000\nstd       0.500156\nmin       0.000000\n25%       0.000000\n50%       0.500000\n75%       1.000000\nmax       1.000000",
            "text/html": "<div>\n<style scoped>\n    .dataframe tbody tr th:only-of-type {\n        vertical-align: middle;\n    }\n\n    .dataframe tbody tr th {\n        vertical-align: top;\n    }\n\n    .dataframe thead th {\n        text-align: right;\n    }\n</style>\n<table border=\"1\" class=\"dataframe\">\n  <thead>\n    <tr style=\"text-align: right;\">\n      <th></th>\n      <th>label</th>\n    </tr>\n  </thead>\n  <tbody>\n    <tr>\n      <th>count</th>\n      <td>1600.000000</td>\n    </tr>\n    <tr>\n      <th>mean</th>\n      <td>0.500000</td>\n    </tr>\n    <tr>\n      <th>std</th>\n      <td>0.500156</td>\n    </tr>\n    <tr>\n      <th>min</th>\n      <td>0.000000</td>\n    </tr>\n    <tr>\n      <th>25%</th>\n      <td>0.000000</td>\n    </tr>\n    <tr>\n      <th>50%</th>\n      <td>0.500000</td>\n    </tr>\n    <tr>\n      <th>75%</th>\n      <td>1.000000</td>\n    </tr>\n    <tr>\n      <th>max</th>\n      <td>1.000000</td>\n    </tr>\n  </tbody>\n</table>\n</div>"
          },
          "metadata": {}
        }
      ],
      "execution_count": 29,
      "metadata": {
        "jupyter": {
          "source_hidden": false,
          "outputs_hidden": false
        },
        "nteract": {
          "transient": {
            "deleting": false
          }
        },
        "gather": {
          "logged": 1724425072689
        }
      }
    },
    {
      "cell_type": "code",
      "source": [
        "df.head()"
      ],
      "outputs": [
        {
          "output_type": "execute_result",
          "execution_count": 32,
          "data": {
            "text/plain": "                                              review  ...                                          evidences\n0  plot : two teen couples go to a church party ,...  ...  [mind - fuck movie, the sad part is, downshift...\n1  the happy bastard 's quick movie review damn\\n...  ...  [it 's pretty much a sunken ship, sutherland i...\n2  it is movies like these that make a jaded movi...  ...  [the characters and acting is nothing spectacu...\n3  \" quest for camelot \" is warner bros . '\\nfirs...  ...  [dead on arrival, the characters stink, subpar...\n4  synopsis : a mentally unstable man undergoing ...  ...  [it is highly derivative and somewhat boring, ...\n\n[5 rows x 3 columns]",
            "text/html": "<div>\n<style scoped>\n    .dataframe tbody tr th:only-of-type {\n        vertical-align: middle;\n    }\n\n    .dataframe tbody tr th {\n        vertical-align: top;\n    }\n\n    .dataframe thead th {\n        text-align: right;\n    }\n</style>\n<table border=\"1\" class=\"dataframe\">\n  <thead>\n    <tr style=\"text-align: right;\">\n      <th></th>\n      <th>review</th>\n      <th>label</th>\n      <th>evidences</th>\n    </tr>\n  </thead>\n  <tbody>\n    <tr>\n      <th>0</th>\n      <td>plot : two teen couples go to a church party ,...</td>\n      <td>0</td>\n      <td>[mind - fuck movie, the sad part is, downshift...</td>\n    </tr>\n    <tr>\n      <th>1</th>\n      <td>the happy bastard 's quick movie review damn\\n...</td>\n      <td>0</td>\n      <td>[it 's pretty much a sunken ship, sutherland i...</td>\n    </tr>\n    <tr>\n      <th>2</th>\n      <td>it is movies like these that make a jaded movi...</td>\n      <td>0</td>\n      <td>[the characters and acting is nothing spectacu...</td>\n    </tr>\n    <tr>\n      <th>3</th>\n      <td>\" quest for camelot \" is warner bros . '\\nfirs...</td>\n      <td>0</td>\n      <td>[dead on arrival, the characters stink, subpar...</td>\n    </tr>\n    <tr>\n      <th>4</th>\n      <td>synopsis : a mentally unstable man undergoing ...</td>\n      <td>0</td>\n      <td>[it is highly derivative and somewhat boring, ...</td>\n    </tr>\n  </tbody>\n</table>\n</div>"
          },
          "metadata": {}
        }
      ],
      "execution_count": 32,
      "metadata": {
        "jupyter": {
          "source_hidden": false,
          "outputs_hidden": false
        },
        "nteract": {
          "transient": {
            "deleting": false
          }
        },
        "gather": {
          "logged": 1724425123310
        }
      }
    },
    {
      "cell_type": "markdown",
      "source": [
        "You upload the datasets to hugging face so that storage is someone else's problem"
      ],
      "metadata": {
        "nteract": {
          "transient": {
            "deleting": false
          }
        }
      }
    },
    {
      "cell_type": "code",
      "source": [],
      "outputs": [],
      "execution_count": null,
      "metadata": {
        "jupyter": {
          "source_hidden": false,
          "outputs_hidden": false
        },
        "nteract": {
          "transient": {
            "deleting": false
          }
        }
      }
    }
  ],
  "metadata": {
    "kernelspec": {
      "name": "python38-azureml",
      "language": "python",
      "display_name": "Python 3.8 - AzureML"
    },
    "language_info": {
      "name": "python",
      "version": "3.9.19",
      "mimetype": "text/x-python",
      "codemirror_mode": {
        "name": "ipython",
        "version": 3
      },
      "pygments_lexer": "ipython3",
      "nbconvert_exporter": "python",
      "file_extension": ".py"
    },
    "microsoft": {
      "ms_spell_check": {
        "ms_spell_check_language": "en"
      }
    },
    "kernel_info": {
      "name": "python38-azureml"
    },
    "nteract": {
      "version": "nteract-front-end@1.0.0"
    }
  },
  "nbformat": 4,
  "nbformat_minor": 2
}