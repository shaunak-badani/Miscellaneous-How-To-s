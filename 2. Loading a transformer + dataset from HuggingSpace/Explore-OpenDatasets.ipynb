{
  "cells": [
    {
      "cell_type": "code",
      "source": [
        "from azureml.opendatasets import PublicHolidays\n",
        "\n",
        "from datetime import datetime\n",
        "from dateutil import parser\n",
        "from dateutil.relativedelta import relativedelta\n"
      ],
      "outputs": [],
      "execution_count": 4,
      "metadata": {
        "gather": {
          "logged": 1724427860705
        }
      }
    },
    {
      "cell_type": "code",
      "source": [
        "today = datetime.today()\n",
        "\n",
        "last_year = today - relativedelta(months = 12)"
      ],
      "outputs": [],
      "execution_count": 5,
      "metadata": {
        "jupyter": {
          "source_hidden": false,
          "outputs_hidden": false
        },
        "nteract": {
          "transient": {
            "deleting": false
          }
        },
        "gather": {
          "logged": 1724427900879
        }
      }
    },
    {
      "cell_type": "code",
      "source": [
        "today, last_year"
      ],
      "outputs": [
        {
          "output_type": "execute_result",
          "execution_count": 6,
          "data": {
            "text/plain": "(datetime.datetime(2024, 8, 23, 15, 45, 0, 608406),\n datetime.datetime(2023, 8, 23, 15, 45, 0, 608406))"
          },
          "metadata": {}
        }
      ],
      "execution_count": 6,
      "metadata": {
        "jupyter": {
          "source_hidden": false,
          "outputs_hidden": false
        },
        "nteract": {
          "transient": {
            "deleting": false
          }
        },
        "gather": {
          "logged": 1724427917823
        }
      }
    },
    {
      "cell_type": "code",
      "source": [
        "hol = PublicHolidays(start_date=last_year, end_date = today)"
      ],
      "outputs": [],
      "execution_count": 7,
      "metadata": {
        "jupyter": {
          "source_hidden": false,
          "outputs_hidden": false
        },
        "nteract": {
          "transient": {
            "deleting": false
          }
        },
        "gather": {
          "logged": 1724427935506
        }
      }
    },
    {
      "cell_type": "code",
      "source": [
        "hol_df = hol.to_pandas_dataframe()"
      ],
      "outputs": [
        {
          "output_type": "stream",
          "name": "stdout",
          "text": "{'infer_column_types': 'False', 'activity': 'download'}\n{'infer_column_types': 'False', 'activity': 'download', 'activityApp': 'FileDataset'}\n[Info] read from /tmp/tmp33v8zusr/https%3A/%2Fazureopendatastorage.azurefd.net/holidaydatacontainer/Processed/part-00000-tid-8468414522853579044-35925ba8-a227-4b80-9c89-17065e7bf1db-649-c000.snappy.parquet\n"
        }
      ],
      "execution_count": 8,
      "metadata": {
        "jupyter": {
          "source_hidden": false,
          "outputs_hidden": false
        },
        "nteract": {
          "transient": {
            "deleting": false
          }
        },
        "gather": {
          "logged": 1724427953293
        }
      }
    },
    {
      "cell_type": "code",
      "source": [
        "hol_df.describe()"
      ],
      "outputs": [
        {
          "output_type": "stream",
          "name": "stderr",
          "text": "/tmp/ipykernel_219115/4037369736.py:1: FutureWarning: Treating datetime data as categorical rather than numeric in `.describe` is deprecated and will be removed in a future version of pandas. Specify `datetime_is_numeric=True` to silence this warning and adopt the future behavior now.\n  hol_df.describe()\n"
        },
        {
          "output_type": "execute_result",
          "execution_count": 10,
          "data": {
            "text/plain": "       countryOrRegion holidayName normalizeHolidayName isPaidTimeOff  \\\ncount              543         543                  543            30   \nunique              38         349                  335             2   \ntop             Sweden      Søndag               Søndag          True   \nfreq                64          50                   50            19   \nfirst              NaN         NaN                  NaN           NaN   \nlast               NaN         NaN                  NaN           NaN   \n\n       countryRegionCode                 date  \ncount                507                  543  \nunique                34                  164  \ntop                   SE  2023-12-25 00:00:00  \nfreq                  64                   37  \nfirst                NaN  2023-08-24 00:00:00  \nlast                 NaN  2024-08-20 00:00:00  ",
            "text/html": "<div>\n<style scoped>\n    .dataframe tbody tr th:only-of-type {\n        vertical-align: middle;\n    }\n\n    .dataframe tbody tr th {\n        vertical-align: top;\n    }\n\n    .dataframe thead th {\n        text-align: right;\n    }\n</style>\n<table border=\"1\" class=\"dataframe\">\n  <thead>\n    <tr style=\"text-align: right;\">\n      <th></th>\n      <th>countryOrRegion</th>\n      <th>holidayName</th>\n      <th>normalizeHolidayName</th>\n      <th>isPaidTimeOff</th>\n      <th>countryRegionCode</th>\n      <th>date</th>\n    </tr>\n  </thead>\n  <tbody>\n    <tr>\n      <th>count</th>\n      <td>543</td>\n      <td>543</td>\n      <td>543</td>\n      <td>30</td>\n      <td>507</td>\n      <td>543</td>\n    </tr>\n    <tr>\n      <th>unique</th>\n      <td>38</td>\n      <td>349</td>\n      <td>335</td>\n      <td>2</td>\n      <td>34</td>\n      <td>164</td>\n    </tr>\n    <tr>\n      <th>top</th>\n      <td>Sweden</td>\n      <td>Søndag</td>\n      <td>Søndag</td>\n      <td>True</td>\n      <td>SE</td>\n      <td>2023-12-25 00:00:00</td>\n    </tr>\n    <tr>\n      <th>freq</th>\n      <td>64</td>\n      <td>50</td>\n      <td>50</td>\n      <td>19</td>\n      <td>64</td>\n      <td>37</td>\n    </tr>\n    <tr>\n      <th>first</th>\n      <td>NaN</td>\n      <td>NaN</td>\n      <td>NaN</td>\n      <td>NaN</td>\n      <td>NaN</td>\n      <td>2023-08-24 00:00:00</td>\n    </tr>\n    <tr>\n      <th>last</th>\n      <td>NaN</td>\n      <td>NaN</td>\n      <td>NaN</td>\n      <td>NaN</td>\n      <td>NaN</td>\n      <td>2024-08-20 00:00:00</td>\n    </tr>\n  </tbody>\n</table>\n</div>"
          },
          "metadata": {}
        }
      ],
      "execution_count": 10,
      "metadata": {
        "jupyter": {
          "source_hidden": false,
          "outputs_hidden": false
        },
        "nteract": {
          "transient": {
            "deleting": false
          }
        },
        "gather": {
          "logged": 1724427963396
        }
      }
    },
    {
      "cell_type": "code",
      "source": [
        "hol_df.head(10)"
      ],
      "outputs": [
        {
          "output_type": "execute_result",
          "execution_count": 11,
          "data": {
            "text/plain": "        countryOrRegion                                        holidayName  \\\n27994           Ukraine                          День незалежності України   \n27995            Norway                                             Søndag   \n27996            Sweden                                             Söndag   \n27997           England                           Late Summer Bank Holiday   \n27998       Isle of Man                           Late Summer Bank Holiday   \n27999  Northern Ireland                           Late Summer Bank Holiday   \n28000    United Kingdom  Late Summer Bank Holiday [England, Wales, Nort...   \n28001             Wales                           Late Summer Bank Holiday   \n28002            Norway                                             Søndag   \n28003            Sweden                                             Söndag   \n\n            normalizeHolidayName isPaidTimeOff countryRegionCode       date  \n27994  День незалежності України          None                UA 2023-08-24  \n27995                     Søndag          None                NO 2023-08-27  \n27996                     Söndag          None                SE 2023-08-27  \n27997   Late Summer Bank Holiday          None              None 2023-08-28  \n27998   Late Summer Bank Holiday          None                IM 2023-08-28  \n27999   Late Summer Bank Holiday          None              None 2023-08-28  \n28000   Late Summer Bank Holiday          True                GB 2023-08-28  \n28001   Late Summer Bank Holiday          None              None 2023-08-28  \n28002                     Søndag          None                NO 2023-09-03  \n28003                     Söndag          None                SE 2023-09-03  ",
            "text/html": "<div>\n<style scoped>\n    .dataframe tbody tr th:only-of-type {\n        vertical-align: middle;\n    }\n\n    .dataframe tbody tr th {\n        vertical-align: top;\n    }\n\n    .dataframe thead th {\n        text-align: right;\n    }\n</style>\n<table border=\"1\" class=\"dataframe\">\n  <thead>\n    <tr style=\"text-align: right;\">\n      <th></th>\n      <th>countryOrRegion</th>\n      <th>holidayName</th>\n      <th>normalizeHolidayName</th>\n      <th>isPaidTimeOff</th>\n      <th>countryRegionCode</th>\n      <th>date</th>\n    </tr>\n  </thead>\n  <tbody>\n    <tr>\n      <th>27994</th>\n      <td>Ukraine</td>\n      <td>День незалежності України</td>\n      <td>День незалежності України</td>\n      <td>None</td>\n      <td>UA</td>\n      <td>2023-08-24</td>\n    </tr>\n    <tr>\n      <th>27995</th>\n      <td>Norway</td>\n      <td>Søndag</td>\n      <td>Søndag</td>\n      <td>None</td>\n      <td>NO</td>\n      <td>2023-08-27</td>\n    </tr>\n    <tr>\n      <th>27996</th>\n      <td>Sweden</td>\n      <td>Söndag</td>\n      <td>Söndag</td>\n      <td>None</td>\n      <td>SE</td>\n      <td>2023-08-27</td>\n    </tr>\n    <tr>\n      <th>27997</th>\n      <td>England</td>\n      <td>Late Summer Bank Holiday</td>\n      <td>Late Summer Bank Holiday</td>\n      <td>None</td>\n      <td>None</td>\n      <td>2023-08-28</td>\n    </tr>\n    <tr>\n      <th>27998</th>\n      <td>Isle of Man</td>\n      <td>Late Summer Bank Holiday</td>\n      <td>Late Summer Bank Holiday</td>\n      <td>None</td>\n      <td>IM</td>\n      <td>2023-08-28</td>\n    </tr>\n    <tr>\n      <th>27999</th>\n      <td>Northern Ireland</td>\n      <td>Late Summer Bank Holiday</td>\n      <td>Late Summer Bank Holiday</td>\n      <td>None</td>\n      <td>None</td>\n      <td>2023-08-28</td>\n    </tr>\n    <tr>\n      <th>28000</th>\n      <td>United Kingdom</td>\n      <td>Late Summer Bank Holiday [England, Wales, Nort...</td>\n      <td>Late Summer Bank Holiday</td>\n      <td>True</td>\n      <td>GB</td>\n      <td>2023-08-28</td>\n    </tr>\n    <tr>\n      <th>28001</th>\n      <td>Wales</td>\n      <td>Late Summer Bank Holiday</td>\n      <td>Late Summer Bank Holiday</td>\n      <td>None</td>\n      <td>None</td>\n      <td>2023-08-28</td>\n    </tr>\n    <tr>\n      <th>28002</th>\n      <td>Norway</td>\n      <td>Søndag</td>\n      <td>Søndag</td>\n      <td>None</td>\n      <td>NO</td>\n      <td>2023-09-03</td>\n    </tr>\n    <tr>\n      <th>28003</th>\n      <td>Sweden</td>\n      <td>Söndag</td>\n      <td>Söndag</td>\n      <td>None</td>\n      <td>SE</td>\n      <td>2023-09-03</td>\n    </tr>\n  </tbody>\n</table>\n</div>"
          },
          "metadata": {}
        }
      ],
      "execution_count": 11,
      "metadata": {
        "jupyter": {
          "source_hidden": false,
          "outputs_hidden": false
        },
        "nteract": {
          "transient": {
            "deleting": false
          }
        },
        "gather": {
          "logged": 1724428059630
        }
      }
    },
    {
      "cell_type": "markdown",
      "source": [
        "### Diabetes dataset\n",
        "\n",
        "Ten baseline variables: age, sex, body mass index, average blood pressure and six blood serum measurements were obtained for each of n = 442 diabetes patients, as well as the response of interest, a quantitative measure of disease progression one year after baseline."
      ],
      "metadata": {
        "nteract": {
          "transient": {
            "deleting": false
          }
        },
        "run_control": {
          "frozen": false
        },
        "editable": true
      }
    },
    {
      "cell_type": "code",
      "source": [
        "from azureml.opendatasets import Diabetes\n",
        "\n",
        "diabetes = Diabetes.get_tabular_dataset()\n",
        "diabetes_df = diabetes.to_pandas_dataframe()\n",
        "\n",
        "\n",
        "diabetes_df.head(10)"
      ],
      "outputs": [
        {
          "output_type": "stream",
          "name": "stdout",
          "text": "{'infer_column_types': 'False', 'activity': 'to_pandas_dataframe'}\n{'infer_column_types': 'False', 'activity': 'to_pandas_dataframe', 'activityApp': 'TabularDataset'}\n"
        },
        {
          "output_type": "execute_result",
          "execution_count": 12,
          "data": {
            "text/plain": "   AGE  SEX   BMI     BP   S1     S2    S3    S4      S5  S6    Y\n0   59    2  32.1  101.0  157   93.2  38.0  4.00  4.8598  87  151\n1   48    1  21.6   87.0  183  103.2  70.0  3.00  3.8918  69   75\n2   72    2  30.5   93.0  156   93.6  41.0  4.00  4.6728  85  141\n3   24    1  25.3   84.0  198  131.4  40.0  5.00  4.8903  89  206\n4   50    1  23.0  101.0  192  125.4  52.0  4.00  4.2905  80  135\n5   23    1  22.6   89.0  139   64.8  61.0  2.00  4.1897  68   97\n6   36    2  22.0   90.0  160   99.6  50.0  3.00  3.9512  82  138\n7   66    2  26.2  114.0  255  185.0  56.0  4.55  4.2485  92   63\n8   60    2  32.1   83.0  179  119.4  42.0  4.00  4.4773  94  110\n9   29    1  30.0   85.0  180   93.4  43.0  4.00  5.3845  88  310",
            "text/html": "<div>\n<style scoped>\n    .dataframe tbody tr th:only-of-type {\n        vertical-align: middle;\n    }\n\n    .dataframe tbody tr th {\n        vertical-align: top;\n    }\n\n    .dataframe thead th {\n        text-align: right;\n    }\n</style>\n<table border=\"1\" class=\"dataframe\">\n  <thead>\n    <tr style=\"text-align: right;\">\n      <th></th>\n      <th>AGE</th>\n      <th>SEX</th>\n      <th>BMI</th>\n      <th>BP</th>\n      <th>S1</th>\n      <th>S2</th>\n      <th>S3</th>\n      <th>S4</th>\n      <th>S5</th>\n      <th>S6</th>\n      <th>Y</th>\n    </tr>\n  </thead>\n  <tbody>\n    <tr>\n      <th>0</th>\n      <td>59</td>\n      <td>2</td>\n      <td>32.1</td>\n      <td>101.0</td>\n      <td>157</td>\n      <td>93.2</td>\n      <td>38.0</td>\n      <td>4.00</td>\n      <td>4.8598</td>\n      <td>87</td>\n      <td>151</td>\n    </tr>\n    <tr>\n      <th>1</th>\n      <td>48</td>\n      <td>1</td>\n      <td>21.6</td>\n      <td>87.0</td>\n      <td>183</td>\n      <td>103.2</td>\n      <td>70.0</td>\n      <td>3.00</td>\n      <td>3.8918</td>\n      <td>69</td>\n      <td>75</td>\n    </tr>\n    <tr>\n      <th>2</th>\n      <td>72</td>\n      <td>2</td>\n      <td>30.5</td>\n      <td>93.0</td>\n      <td>156</td>\n      <td>93.6</td>\n      <td>41.0</td>\n      <td>4.00</td>\n      <td>4.6728</td>\n      <td>85</td>\n      <td>141</td>\n    </tr>\n    <tr>\n      <th>3</th>\n      <td>24</td>\n      <td>1</td>\n      <td>25.3</td>\n      <td>84.0</td>\n      <td>198</td>\n      <td>131.4</td>\n      <td>40.0</td>\n      <td>5.00</td>\n      <td>4.8903</td>\n      <td>89</td>\n      <td>206</td>\n    </tr>\n    <tr>\n      <th>4</th>\n      <td>50</td>\n      <td>1</td>\n      <td>23.0</td>\n      <td>101.0</td>\n      <td>192</td>\n      <td>125.4</td>\n      <td>52.0</td>\n      <td>4.00</td>\n      <td>4.2905</td>\n      <td>80</td>\n      <td>135</td>\n    </tr>\n    <tr>\n      <th>5</th>\n      <td>23</td>\n      <td>1</td>\n      <td>22.6</td>\n      <td>89.0</td>\n      <td>139</td>\n      <td>64.8</td>\n      <td>61.0</td>\n      <td>2.00</td>\n      <td>4.1897</td>\n      <td>68</td>\n      <td>97</td>\n    </tr>\n    <tr>\n      <th>6</th>\n      <td>36</td>\n      <td>2</td>\n      <td>22.0</td>\n      <td>90.0</td>\n      <td>160</td>\n      <td>99.6</td>\n      <td>50.0</td>\n      <td>3.00</td>\n      <td>3.9512</td>\n      <td>82</td>\n      <td>138</td>\n    </tr>\n    <tr>\n      <th>7</th>\n      <td>66</td>\n      <td>2</td>\n      <td>26.2</td>\n      <td>114.0</td>\n      <td>255</td>\n      <td>185.0</td>\n      <td>56.0</td>\n      <td>4.55</td>\n      <td>4.2485</td>\n      <td>92</td>\n      <td>63</td>\n    </tr>\n    <tr>\n      <th>8</th>\n      <td>60</td>\n      <td>2</td>\n      <td>32.1</td>\n      <td>83.0</td>\n      <td>179</td>\n      <td>119.4</td>\n      <td>42.0</td>\n      <td>4.00</td>\n      <td>4.4773</td>\n      <td>94</td>\n      <td>110</td>\n    </tr>\n    <tr>\n      <th>9</th>\n      <td>29</td>\n      <td>1</td>\n      <td>30.0</td>\n      <td>85.0</td>\n      <td>180</td>\n      <td>93.4</td>\n      <td>43.0</td>\n      <td>4.00</td>\n      <td>5.3845</td>\n      <td>88</td>\n      <td>310</td>\n    </tr>\n  </tbody>\n</table>\n</div>"
          },
          "metadata": {}
        }
      ],
      "execution_count": 12,
      "metadata": {
        "jupyter": {
          "source_hidden": false,
          "outputs_hidden": false
        },
        "nteract": {
          "transient": {
            "deleting": false
          }
        },
        "gather": {
          "logged": 1724428333576
        }
      }
    },
    {
      "cell_type": "code",
      "source": [
        "diabetes_df.query(\"BMI < 18\")"
      ],
      "outputs": [
        {
          "output_type": "execute_result",
          "execution_count": 13,
          "data": {
            "text/plain": "Empty DataFrame\nColumns: [AGE, SEX, BMI, BP, S1, S2, S3, S4, S5, S6, Y]\nIndex: []",
            "text/html": "<div>\n<style scoped>\n    .dataframe tbody tr th:only-of-type {\n        vertical-align: middle;\n    }\n\n    .dataframe tbody tr th {\n        vertical-align: top;\n    }\n\n    .dataframe thead th {\n        text-align: right;\n    }\n</style>\n<table border=\"1\" class=\"dataframe\">\n  <thead>\n    <tr style=\"text-align: right;\">\n      <th></th>\n      <th>AGE</th>\n      <th>SEX</th>\n      <th>BMI</th>\n      <th>BP</th>\n      <th>S1</th>\n      <th>S2</th>\n      <th>S3</th>\n      <th>S4</th>\n      <th>S5</th>\n      <th>S6</th>\n      <th>Y</th>\n    </tr>\n  </thead>\n  <tbody>\n  </tbody>\n</table>\n</div>"
          },
          "metadata": {}
        }
      ],
      "execution_count": 13,
      "metadata": {
        "jupyter": {
          "source_hidden": false,
          "outputs_hidden": false
        },
        "nteract": {
          "transient": {
            "deleting": false
          }
        },
        "gather": {
          "logged": 1724428372406
        }
      }
    },
    {
      "cell_type": "code",
      "source": [
        "diabetes_df.query(\"BMI < 19\").count()"
      ],
      "outputs": [
        {
          "output_type": "execute_result",
          "execution_count": 15,
          "data": {
            "text/plain": "AGE    7\nSEX    7\nBMI    7\nBP     7\nS1     7\nS2     7\nS3     7\nS4     7\nS5     7\nS6     7\nY      7\ndtype: int64"
          },
          "metadata": {}
        }
      ],
      "execution_count": 15,
      "metadata": {
        "jupyter": {
          "source_hidden": false,
          "outputs_hidden": false
        },
        "nteract": {
          "transient": {
            "deleting": false
          }
        },
        "gather": {
          "logged": 1724428419016
        }
      }
    },
    {
      "cell_type": "code",
      "source": [],
      "outputs": [],
      "execution_count": null,
      "metadata": {
        "jupyter": {
          "source_hidden": false,
          "outputs_hidden": false
        },
        "nteract": {
          "transient": {
            "deleting": false
          }
        }
      }
    }
  ],
  "metadata": {
    "kernelspec": {
      "name": "python38-azureml",
      "language": "python",
      "display_name": "Python 3.8 - AzureML"
    },
    "language_info": {
      "name": "python",
      "version": "3.9.19",
      "mimetype": "text/x-python",
      "codemirror_mode": {
        "name": "ipython",
        "version": 3
      },
      "pygments_lexer": "ipython3",
      "nbconvert_exporter": "python",
      "file_extension": ".py"
    },
    "microsoft": {
      "ms_spell_check": {
        "ms_spell_check_language": "en"
      }
    },
    "kernel_info": {
      "name": "python38-azureml"
    },
    "nteract": {
      "version": "nteract-front-end@1.0.0"
    }
  },
  "nbformat": 4,
  "nbformat_minor": 2
}